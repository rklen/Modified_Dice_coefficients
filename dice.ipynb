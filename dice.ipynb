{
 "cells": [
  {
   "cell_type": "code",
   "execution_count": 1,
   "metadata": {},
   "outputs": [],
   "source": [
    "import numpy as np\n",
    "import matplotlib.pyplot as plt\n",
    "import cv2\n",
    "import nibabel as nib\n",
    "import tensorflow as tf\n",
    "import scipy\n",
    "from matplotlib.collections import LineCollection\n",
    "from scipy.stats import wilcoxon"
   ]
  },
  {
   "cell_type": "code",
   "execution_count": 2,
   "metadata": {},
   "outputs": [],
   "source": [
    "posPatients = np.concatenate((np.array([2,4,5,7,9,11,12,13,16,17,18,19,21,22]),range(23,52),np.array([55]),\n",
    "                                range(60,63),range(64,74),range(75,82),range(83,104),range(105,109)))\n",
    "locList = []\n",
    "maskList = []\n",
    "posList = []\n",
    "img_height=128\n",
    "limit=0.25\n",
    "pixLimit=5\n",
    "\n",
    "for i in range(len(posPatients)):\n",
    "    if posPatients[i]<23:\n",
    "        if posPatients[i]==12:\n",
    "            img_path = 'C:/Users/Oona/Documents/Tpc/hnc/anom_data/positiiviset/12_anon/12_maski/12_maskit.img'\n",
    "        else:\n",
    "            img_path = 'C:/Users/Oona/Documents/Tpc/hnc/anom_data/positiiviset/{}_anon/{}_maski/{}_maski.img'.format(\n",
    "                        posPatients[i],posPatients[i],posPatients[i])\n",
    "    else:\n",
    "        if posPatients[i]==23:\n",
    "            img_path = 'C:/Users/Oona/Documents/Tpc/hnc/anom_data/positiiviset/23/23_maski/23_nifti_maski_edit.img'\n",
    "        if posPatients[i]==24:\n",
    "            img_path = 'C:/Users/Oona/Documents/Tpc/hnc/anom_data/positiiviset/24/24_maski/24_maski.img'\n",
    "        if posPatients[i]==38:\n",
    "            img_path = 'C:/Users/Oona/Documents/Tpc/hnc/anom_data/positiiviset/38/38_nifti_maski/38_nifti_maski_edit.img'\n",
    "        if posPatients[i] not in [23,24,38]:    \n",
    "            img_path = 'C:/Users/Oona/Documents/Tpc/hnc/anom_data/positiiviset/{}/{}_nifti_maski/{}_nifti_maski.img'.format(\n",
    "                        posPatients[i],posPatients[i],posPatients[i])\n",
    "    img = nib.load(img_path)\n",
    "    img_data = img.get_fdata()\n",
    "    locations = []\n",
    "    masks = []\n",
    "    for j in range(img_data.shape[2]):\n",
    "        slice = np.array(img_data[:,:,j])\n",
    "        if np.max(slice)>0:\n",
    "            slice=cv2.resize(slice,(img_height,img_height))\n",
    "            for k in range(img_height):\n",
    "                for l in range(img_height):\n",
    "                    if slice[k,l]>limit:\n",
    "                        slice[k,l]=1\n",
    "                    else:\n",
    "                        slice[k,l]=0\n",
    "            if np.sum(slice)>pixLimit:\n",
    "                locations.append(j)\n",
    "                masks.append(slice)\n",
    "    locList.append(np.array(locations))\n",
    "    maskList.append(masks)\n",
    "\n",
    "for i in range(len(posPatients)):\n",
    "    if posPatients[i]<23:\n",
    "        img_path = 'C:/Users/Oona/Documents/Tpc/hnc/anom_data/positiiviset/{}_anon/{}_nifti_pet/{}_nifti_pet.img'.format(\n",
    "                        posPatients[i],posPatients[i],posPatients[i])\n",
    "    else:\n",
    "        img_path = 'C:/Users/Oona/Documents/Tpc/hnc/anom_data/positiiviset/{}/{}_nifti_pet/{}_nifti_pet.img'.format(\n",
    "                        posPatients[i],posPatients[i],posPatients[i])\n",
    "    img = nib.load(img_path)\n",
    "    img_data = img.get_fdata()\n",
    "    pos = []\n",
    "    for j in range(len(locList[i])):\n",
    "        pos.append(cv2.resize(np.array(img_data[:,:,locList[i][j]]),(img_height,img_height)))\n",
    "    posList.append(pos)\n",
    "\n",
    "def convert(img):\n",
    "\n",
    "    img=(img-np.min(img))/(np.max(img)-np.min(img))*255\n",
    "    for i in range(img_height):\n",
    "        for j in range(img_height):\n",
    "            img[i,j]=int(img[i,j])\n",
    "    return img.astype('int64')\n",
    "\n",
    "for i in range(len(posList)):\n",
    "    for j in range(len(posList[i])):\n",
    "        posList[i][j]=convert(posList[i][j])"
   ]
  },
  {
   "cell_type": "code",
   "execution_count": 3,
   "metadata": {},
   "outputs": [
    {
     "name": "stdout",
     "output_type": "stream",
     "text": [
      "89\n",
      "962\n",
      "10.808988764044944\n",
      "6.063107084385669\n",
      "[ 3  9 11 14  8  9 15 12  5 10 13  8 11 10  4 13  4  4  6  4  6  6  5 12\n",
      " 12  6 18 18  6 19  7 12 13 22 10  5 20  5 12 25  5  7  2  9  6 18 24 11\n",
      " 11 13 21  7  6  9 13  5  2  1  7  3 18 15  6 20 26 16 13 10 11  6  3  4\n",
      " 15  6 26  6 10 10 20  5 17 13 18 13 14 11  4 11 23]\n"
     ]
    }
   ],
   "source": [
    "numberOfSlices=[]\n",
    "finPatients=0\n",
    "for i in range(len(posList)):\n",
    "    numberOfSlices.append(len(posList[i]))\n",
    "    if len(posList[i])>0:\n",
    "        finPatients+=1\n",
    "numberOfSlices=np.array(numberOfSlices)\n",
    "print(finPatients)\n",
    "print(sum(numberOfSlices))\n",
    "print(np.mean(numberOfSlices))\n",
    "print(np.std(numberOfSlices))\n",
    "print(numberOfSlices)"
   ]
  },
  {
   "cell_type": "code",
   "execution_count": 4,
   "metadata": {},
   "outputs": [
    {
     "name": "stdout",
     "output_type": "stream",
     "text": [
      "191\n",
      "0.19854469854469856\n",
      "17\n"
     ]
    }
   ],
   "source": [
    "testSetPatients=np.concatenate((range(0,70,5),np.array([72,82,83])))\n",
    "\n",
    "numTestSetSlices=0\n",
    "numTestSetPatients=0\n",
    "for i in range(len(posList)):\n",
    "    if i in testSetPatients:\n",
    "        numTestSetSlices+=len(posList[i])\n",
    "        if len(posList[i])>0:\n",
    "            numTestSetPatients+=1\n",
    "\n",
    "print(numTestSetSlices)\n",
    "print(numTestSetSlices/sum(numberOfSlices))\n",
    "print(numTestSetPatients)"
   ]
  },
  {
   "cell_type": "code",
   "execution_count": 5,
   "metadata": {},
   "outputs": [],
   "source": [
    "x_train = []\n",
    "y_train = []\n",
    "x_test = []\n",
    "y_test = []\n",
    "\n",
    "for i in range(len(posList)):\n",
    "    if i in testSetPatients:\n",
    "        for j in range(len(posList[i])):\n",
    "            img=(posList[i][j]-np.min(posList[i][j]))/(np.max(posList[i][j])-np.min(posList[i][j]))\n",
    "            x_test.append(img)\n",
    "            y_test.append(cv2.resize(maskList[i][j],(img_height,img_height)))   \n",
    "    else:\n",
    "        for j in range(len(posList[i])):\n",
    "            img=(posList[i][j]-np.min(posList[i][j]))/(np.max(posList[i][j])-np.min(posList[i][j]))\n",
    "            x_train.append(img)\n",
    "            y_train.append(cv2.resize(maskList[i][j],(img_height,img_height)))  \n",
    "\n",
    "x_train=np.array(x_train)\n",
    "y_train=np.array(y_train)\n",
    "x_test=np.array(x_test)\n",
    "y_test=np.array(y_test)"
   ]
  },
  {
   "cell_type": "code",
   "execution_count": 6,
   "metadata": {},
   "outputs": [],
   "source": [
    "#Unet CNN for segmentation\n",
    "\n",
    "def unetForSegmentation(shape):\n",
    "\n",
    "    img_height=shape[1]\n",
    "    if len(shape)==4:\n",
    "        chl_number=shape[3]\n",
    "    else:\n",
    "        chl_number=1\n",
    "\n",
    "    #U-Net model\n",
    "    inputs = tf.keras.layers.Input(shape=(img_height,img_height,chl_number))\n",
    "\n",
    "    #Contraction path\n",
    "    c1 = tf.keras.layers.Conv2D(16, (3, 3), activation='relu', kernel_initializer='he_normal', padding='same')(inputs)\n",
    "    c1 = tf.keras.layers.Dropout(0.1)(c1)\n",
    "    c1 = tf.keras.layers.Conv2D(16, (3, 3), activation='relu', kernel_initializer='he_normal', padding='same')(c1)\n",
    "    p1 = tf.keras.layers.MaxPooling2D((2, 2))(c1)\n",
    "\n",
    "    c2 = tf.keras.layers.Conv2D(32, (3, 3), activation='relu', kernel_initializer='he_normal', padding='same')(p1)\n",
    "    c2 = tf.keras.layers.Dropout(0.1)(c2)\n",
    "    c2 = tf.keras.layers.Conv2D(32, (3, 3), activation='relu', kernel_initializer='he_normal', padding='same')(c2)\n",
    "    p2 = tf.keras.layers.MaxPooling2D((2, 2))(c2)\n",
    "\n",
    "    c3 = tf.keras.layers.Conv2D(64, (3, 3), activation='relu', kernel_initializer='he_normal', padding='same')(p2)\n",
    "    c3 = tf.keras.layers.Dropout(0.2)(c3)\n",
    "    c3 = tf.keras.layers.Conv2D(64, (3, 3), activation='relu', kernel_initializer='he_normal', padding='same')(c3)\n",
    "    p3 = tf.keras.layers.MaxPooling2D((2, 2))(c3)\n",
    "\n",
    "    c4 = tf.keras.layers.Conv2D(64, (3, 3), activation='relu', kernel_initializer='he_normal', padding='same')(p3)\n",
    "    c4 = tf.keras.layers.Dropout(0.2)(c4)\n",
    "    c4 = tf.keras.layers.Conv2D(64, (3, 3), activation='relu', kernel_initializer='he_normal', padding='same')(c4)\n",
    "\n",
    "    #Expansive path\n",
    "    u7 = tf.keras.layers.Conv2DTranspose(32, (2, 2), strides=(2, 2), padding='same')(c4)\n",
    "    u7 = tf.keras.layers.concatenate([u7, c3])\n",
    "    c7 = tf.keras.layers.Conv2D(32, (3, 3), activation='relu', kernel_initializer='he_normal', padding='same')(u7)\n",
    "    c7 = tf.keras.layers.Dropout(0.1)(c7)\n",
    "    c7 = tf.keras.layers.Conv2D(32, (3, 3), activation='relu', kernel_initializer='he_normal', padding='same')(c7)\n",
    "\n",
    "    u8 = tf.keras.layers.Conv2DTranspose(32, (2, 2), strides=(2, 2), padding='same')(c7)\n",
    "    u8 = tf.keras.layers.concatenate([u8, c2])\n",
    "    c8 = tf.keras.layers.Conv2D(32, (3, 3), activation='relu', kernel_initializer='he_normal', padding='same')(u8)\n",
    "    c8 = tf.keras.layers.Dropout(0.1)(c8)\n",
    "    c8 = tf.keras.layers.Conv2D(32, (3, 3), activation='relu', kernel_initializer='he_normal', padding='same')(c8)\n",
    "\n",
    "    u9 = tf.keras.layers.Conv2DTranspose(16, (2, 2), strides=(2, 2), padding='same')(c8)\n",
    "    u9 = tf.keras.layers.concatenate([u9, c1], axis=3)\n",
    "    c9 = tf.keras.layers.Conv2D(16, (3, 3), activation='relu', kernel_initializer='he_normal', padding='same')(u9)\n",
    "    c9 = tf.keras.layers.Dropout(0.1)(c9)\n",
    "    c9 = tf.keras.layers.Conv2D(16, (3, 3), activation='relu', kernel_initializer='he_normal', padding='same')(c9)\n",
    "\n",
    "    outputs = tf.keras.layers.Conv2D(1, (1,1), activation='linear')(c9) #sigmoid or linear\n",
    "\n",
    "    model = tf.keras.Model(inputs=[inputs], outputs=[outputs])\n",
    "    model.compile(optimizer='adam', loss='binary_crossentropy')\n",
    "\n",
    "    return model"
   ]
  },
  {
   "cell_type": "code",
   "execution_count": 61,
   "metadata": {},
   "outputs": [
    {
     "name": "stdout",
     "output_type": "stream",
     "text": [
      "Epoch 1/50\n",
      "17/17 [==============================] - 57s 3s/step - loss: 0.0936 - val_loss: 0.0767\n",
      "Epoch 2/50\n",
      "17/17 [==============================] - 52s 3s/step - loss: 0.0935 - val_loss: 0.0767\n",
      "Epoch 3/50\n",
      "17/17 [==============================] - 52s 3s/step - loss: 0.0935 - val_loss: 0.0767\n",
      "Epoch 4/50\n",
      "17/17 [==============================] - 52s 3s/step - loss: 0.0894 - val_loss: 0.0736\n",
      "Epoch 5/50\n",
      "17/17 [==============================] - 52s 3s/step - loss: 0.0540 - val_loss: 0.0290\n",
      "Epoch 6/50\n",
      "17/17 [==============================] - 53s 3s/step - loss: 0.0292 - val_loss: 0.0184\n",
      "Epoch 7/50\n",
      "17/17 [==============================] - 53s 3s/step - loss: 0.0242 - val_loss: 0.0176\n",
      "Epoch 8/50\n",
      "17/17 [==============================] - 53s 3s/step - loss: 0.0230 - val_loss: 0.0178\n",
      "Epoch 9/50\n",
      "17/17 [==============================] - 52s 3s/step - loss: 0.0215 - val_loss: 0.0165\n",
      "Epoch 10/50\n",
      "17/17 [==============================] - 53s 3s/step - loss: 0.0203 - val_loss: 0.0162\n",
      "Epoch 11/50\n",
      "17/17 [==============================] - 52s 3s/step - loss: 0.0196 - val_loss: 0.0147\n",
      "Epoch 12/50\n",
      "17/17 [==============================] - 52s 3s/step - loss: 0.0196 - val_loss: 0.0157\n",
      "Epoch 13/50\n",
      "17/17 [==============================] - 52s 3s/step - loss: 0.0188 - val_loss: 0.0139\n",
      "Epoch 14/50\n",
      "17/17 [==============================] - 52s 3s/step - loss: 0.0175 - val_loss: 0.0145\n",
      "Epoch 15/50\n",
      "17/17 [==============================] - 52s 3s/step - loss: 0.0178 - val_loss: 0.0132\n",
      "Epoch 16/50\n",
      "17/17 [==============================] - 52s 3s/step - loss: 0.0188 - val_loss: 0.0188\n",
      "Epoch 17/50\n",
      "17/17 [==============================] - 52s 3s/step - loss: 0.0207 - val_loss: 0.0167\n",
      "Epoch 18/50\n",
      "17/17 [==============================] - 52s 3s/step - loss: 0.0216 - val_loss: 0.0156\n",
      "Epoch 19/50\n",
      "17/17 [==============================] - 52s 3s/step - loss: 0.0192 - val_loss: 0.0140\n",
      "Epoch 20/50\n",
      "17/17 [==============================] - 52s 3s/step - loss: 0.0174 - val_loss: 0.0134\n",
      "Epoch 21/50\n",
      "17/17 [==============================] - 52s 3s/step - loss: 0.0171 - val_loss: 0.0138\n",
      "Epoch 22/50\n",
      "17/17 [==============================] - 52s 3s/step - loss: 0.0165 - val_loss: 0.0131\n",
      "Epoch 23/50\n",
      "17/17 [==============================] - 52s 3s/step - loss: 0.0201 - val_loss: 0.0153\n",
      "Epoch 24/50\n",
      "17/17 [==============================] - 52s 3s/step - loss: 0.0189 - val_loss: 0.0150\n",
      "Epoch 25/50\n",
      "17/17 [==============================] - 52s 3s/step - loss: 0.0173 - val_loss: 0.0140\n",
      "Epoch 26/50\n",
      "17/17 [==============================] - 52s 3s/step - loss: 0.0157 - val_loss: 0.0127\n",
      "Epoch 27/50\n",
      "17/17 [==============================] - 52s 3s/step - loss: 0.0147 - val_loss: 0.0134\n",
      "Epoch 28/50\n",
      "17/17 [==============================] - 52s 3s/step - loss: 0.0146 - val_loss: 0.0124\n",
      "Epoch 29/50\n",
      "17/17 [==============================] - 52s 3s/step - loss: 0.0141 - val_loss: 0.0125\n",
      "Epoch 30/50\n",
      "17/17 [==============================] - 52s 3s/step - loss: 0.0134 - val_loss: 0.0121\n",
      "Epoch 31/50\n",
      "17/17 [==============================] - 52s 3s/step - loss: 0.0126 - val_loss: 0.0127\n",
      "Epoch 32/50\n",
      "17/17 [==============================] - 52s 3s/step - loss: 0.0133 - val_loss: 0.0117\n",
      "Epoch 33/50\n",
      "17/17 [==============================] - 52s 3s/step - loss: 0.0119 - val_loss: 0.0120\n",
      "Epoch 34/50\n",
      "17/17 [==============================] - 52s 3s/step - loss: 0.0109 - val_loss: 0.0125\n",
      "Epoch 35/50\n",
      "17/17 [==============================] - 52s 3s/step - loss: 0.0103 - val_loss: 0.0127\n",
      "Epoch 36/50\n",
      "17/17 [==============================] - 52s 3s/step - loss: 0.0096 - val_loss: 0.0147\n",
      "Epoch 37/50\n",
      "17/17 [==============================] - 52s 3s/step - loss: 0.0101 - val_loss: 0.0125\n",
      "Epoch 38/50\n",
      "17/17 [==============================] - 52s 3s/step - loss: 0.0108 - val_loss: 0.0123\n",
      "Epoch 39/50\n",
      "17/17 [==============================] - 52s 3s/step - loss: 0.0091 - val_loss: 0.0132\n",
      "Epoch 40/50\n",
      "17/17 [==============================] - 52s 3s/step - loss: 0.0083 - val_loss: 0.0122\n",
      "Epoch 41/50\n",
      "17/17 [==============================] - 52s 3s/step - loss: 0.0080 - val_loss: 0.0129\n",
      "Epoch 42/50\n",
      "17/17 [==============================] - 52s 3s/step - loss: 0.0079 - val_loss: 0.0126\n",
      "Epoch 43/50\n",
      "17/17 [==============================] - 52s 3s/step - loss: 0.0076 - val_loss: 0.0150\n",
      "Epoch 44/50\n",
      "17/17 [==============================] - 52s 3s/step - loss: 0.0074 - val_loss: 0.0120\n",
      "Epoch 45/50\n",
      "17/17 [==============================] - 52s 3s/step - loss: 0.0070 - val_loss: 0.0122\n",
      "Epoch 46/50\n",
      "17/17 [==============================] - 52s 3s/step - loss: 0.0069 - val_loss: 0.0124\n",
      "Epoch 47/50\n",
      "17/17 [==============================] - 52s 3s/step - loss: 0.0066 - val_loss: 0.0124\n",
      "Epoch 48/50\n",
      "17/17 [==============================] - 52s 3s/step - loss: 0.0067 - val_loss: 0.0128\n",
      "Epoch 49/50\n",
      "17/17 [==============================] - 52s 3s/step - loss: 0.0071 - val_loss: 0.0126\n",
      "Epoch 50/50\n",
      "17/17 [==============================] - 52s 3s/step - loss: 0.0069 - val_loss: 0.0121\n"
     ]
    },
    {
     "data": {
      "text/plain": [
       "[<matplotlib.lines.Line2D at 0x1a63554f340>]"
      ]
     },
     "execution_count": 61,
     "metadata": {},
     "output_type": "execute_result"
    },
    {
     "data": {
      "image/png": "[encoded data removed]",
      "text/plain": [
       "<Figure size 432x288 with 1 Axes>"
      ]
     },
     "metadata": {
      "needs_background": "light"
     },
     "output_type": "display_data"
    }
   ],
   "source": [
    "model=unetForSegmentation(x_test.shape)\n",
    "numEpochs=50\n",
    "earlystopping = tf.keras.callbacks.EarlyStopping(monitor='val_loss',mode='min', patience=30, restore_best_weights=True)\n",
    "history=model.fit(x=x_train,y=y_train,epochs=numEpochs,validation_split=0.3,callbacks=[earlystopping],shuffle=True)\n",
    "trainPredictions=model.predict(x_train)\n",
    "predictions=model.predict(x_test)\n",
    "plt.plot(range(len(history.history['loss'])),history.history['loss'],color='blue')"
   ]
  },
  {
   "cell_type": "code",
   "execution_count": 7,
   "metadata": {},
   "outputs": [],
   "source": [
    "def dicesForLimit(predictions,y_test,limit):\n",
    "\n",
    "    dices=np.zeros((len(y_test)))\n",
    "\n",
    "    img_height=predictions[0].shape[0]\n",
    "\n",
    "    for k in range(len(y_test)):\n",
    "        TP=0\n",
    "        FN=0\n",
    "        FP=0\n",
    "        for i in range(img_height):\n",
    "            for j in range(img_height):\n",
    "                if y_test[k,i,j]>0.5 and predictions[k,i,j]>limit:\n",
    "                    TP+=1\n",
    "                if y_test[k,i,j]>0.5 and predictions[k,i,j]<limit:\n",
    "                    FN+=1\n",
    "                if y_test[k,i,j]<0.5 and predictions[k,i,j]>limit:\n",
    "                    FP+=1\n",
    "        if TP+FN+FP>0:\n",
    "            dices[k]=2*TP/(2*TP+FN+FP)\n",
    "\n",
    "    return(dices)"
   ]
  },
  {
   "cell_type": "code",
   "execution_count": 68,
   "metadata": {},
   "outputs": [
    {
     "name": "stdout",
     "output_type": "stream",
     "text": [
      "0.759493670886076\n",
      "0.6713943965565415\n"
     ]
    }
   ],
   "source": [
    "limit=0.40\n",
    "dices=dicesForLimit(trainPredictions,y_train,limit)\n",
    "print(np.median(dices))\n",
    "print(np.mean(dices))\n",
    "\n",
    "#0.30 0.722 / 0.651\n",
    "#0.35 0.745 / 0.666\n",
    "#0.37 0.753 / 0.669\n",
    "#0.40 0.759 / 0.671\n",
    "#0.43 0.757 / 0.667\n",
    "#0.45 0.757 / 0.665"
   ]
  },
  {
   "cell_type": "code",
   "execution_count": 12,
   "metadata": {},
   "outputs": [
    {
     "name": "stdout",
     "output_type": "stream",
     "text": [
      "0.6229508196721312\n",
      "0.5416179104010125\n",
      "0.0\n",
      "0.9803921568627451\n"
     ]
    }
   ],
   "source": [
    "limit=0.40\n",
    "dices=dicesForLimit(predictions,y_test,limit)\n",
    "print(np.median(dices))\n",
    "print(np.mean(dices))\n",
    "print(np.min(dices))\n",
    "print(np.max(dices))"
   ]
  },
  {
   "cell_type": "code",
   "execution_count": 70,
   "metadata": {},
   "outputs": [],
   "source": [
    "for i in range(len(predictions)):\n",
    "    np.savetxt('predictions_{}.txt'.format(i), predictions[i][:,:,0])"
   ]
  },
  {
   "cell_type": "code",
   "execution_count": 6,
   "metadata": {},
   "outputs": [],
   "source": [
    "def get_all_edges(bool_img):\n",
    "    \"\"\"\n",
    "    Get a list of all edges (where the value changes from True to False) in the 2D boolean image.\n",
    "    The returned array edges has he dimension (n, 2, 2).\n",
    "    Edge i connects the pixels edges[i, 0, :] and edges[i, 1, :].\n",
    "    Note that the indices of a pixel also denote the coordinates of its lower left corner.\n",
    "    \"\"\"\n",
    "    edges = []\n",
    "    ii, jj = np.nonzero(bool_img)\n",
    "    for i, j in zip(ii, jj):\n",
    "        # North\n",
    "        if j == bool_img.shape[1]-1 or not bool_img[i, j+1]:\n",
    "            edges.append(np.array([[i, j+1],\n",
    "                                   [i+1, j+1]]))\n",
    "        # East\n",
    "        if i == bool_img.shape[0]-1 or not bool_img[i+1, j]:\n",
    "            edges.append(np.array([[i+1, j],\n",
    "                                   [i+1, j+1]]))\n",
    "        # South\n",
    "        if j == 0 or not bool_img[i, j-1]:\n",
    "            edges.append(np.array([[i, j],\n",
    "                                   [i+1, j]]))\n",
    "        # West\n",
    "        if i == 0 or not bool_img[i-1, j]:\n",
    "            edges.append(np.array([[i, j],\n",
    "                                   [i, j+1]]))\n",
    "\n",
    "    if not edges:\n",
    "        return np.zeros((0, 2, 2))\n",
    "    else:\n",
    "        return np.array(edges)\n",
    "\n",
    "\n",
    "def close_loop_edges(edges):\n",
    "    \"\"\"\n",
    "    Combine the edges defined by 'get_all_edges' to closed loops around objects.\n",
    "    If there are multiple disconnected objects a list of closed loops is returned.\n",
    "    Note that it's expected that all the edges are part of exactly one loop (but not necessarily the same one).\n",
    "    \"\"\"\n",
    "\n",
    "    loop_list = []\n",
    "    while edges.size != 0:\n",
    "\n",
    "        loop = [edges[0, 0], edges[0, 1]]  # Start with first edge\n",
    "        edges = np.delete(edges, 0, axis=0)\n",
    "\n",
    "        while edges.size != 0:\n",
    "            # Get next edge (=edge with common node)\n",
    "            ij = np.nonzero((edges == loop[-1]).all(axis=2))\n",
    "            if ij[0].size > 0:\n",
    "                i = ij[0][0]\n",
    "                j = ij[1][0]\n",
    "            else:\n",
    "                loop.append(loop[0])\n",
    "                # Uncomment to to make the start of the loop invisible when plotting\n",
    "                # loop.append(loop[1])\n",
    "                break\n",
    "\n",
    "            loop.append(edges[i, (j + 1) % 2, :])\n",
    "            edges = np.delete(edges, i, axis=0)\n",
    "\n",
    "        loop_list.append(np.array(loop))\n",
    "\n",
    "    return loop_list\n",
    "\n",
    "\n",
    "def plot_outlines(bool_img, ax=None, **kwargs):\n",
    "    if ax is None:\n",
    "        ax = plt.gca()\n",
    "\n",
    "    edges = get_all_edges(bool_img=bool_img)\n",
    "    edges = edges - 0.5  # convert indices to coordinates; TODO adjust according to image extent\n",
    "    outlines = close_loop_edges(edges=edges)\n",
    "    cl = LineCollection(outlines, **kwargs)\n",
    "    ax.add_collection(cl)"
   ]
  },
  {
   "cell_type": "code",
   "execution_count": 7,
   "metadata": {},
   "outputs": [],
   "source": [
    "def turnIntoBinaryMask(img,lim):\n",
    "\n",
    "    img_height=img.shape[0]\n",
    "\n",
    "    binM=np.zeros((img_height,img_height))\n",
    "\n",
    "    for i in range(img_height):\n",
    "        for j in range(img_height):\n",
    "            if img[i][j]>lim:\n",
    "                binM[i][j]=1\n",
    "    \n",
    "    return binM"
   ]
  },
  {
   "cell_type": "code",
   "execution_count": null,
   "metadata": {},
   "outputs": [],
   "source": [
    "for i in range(len(predictions)):\n",
    "    array=cv2.rotate(y_test[i],cv2.cv2.ROTATE_90_COUNTERCLOCKWISE)\n",
    "    array1=cv2.rotate(turnIntoBinaryMask(predictions[i],limit),cv2.cv2.ROTATE_90_COUNTERCLOCKWISE)\n",
    "    plt.imshow(array1)\n",
    "    plt.imshow(cv2.rotate(x_test[i],cv2.cv2.ROTATE_90_COUNTERCLOCKWISE), cmap='gray')\n",
    "    plot_outlines(array.T, lw=2, color='green')\n",
    "    plot_outlines(array1.T, lw=2, color='blue')\n",
    "    plt.savefig('fig{}.png'.format(i),bbox_inches='tight')\n",
    "    plt.show()"
   ]
  },
  {
   "cell_type": "code",
   "execution_count": 8,
   "metadata": {},
   "outputs": [],
   "source": [
    "predictions=[]\n",
    "for i in range(len(y_test)):\n",
    "    predictions.append(np.loadtxt('predictions_{}.txt'.format(i)))\n",
    "predictions=np.array(predictions)"
   ]
  },
  {
   "cell_type": "code",
   "execution_count": 9,
   "metadata": {},
   "outputs": [],
   "source": [
    "classifications=np.array([2, 1, 1, 4, 4, 4, 2, 2, 2, 2, 1, 0, 3, 4, 3, 4, 2, 2, 2, 2, 2, 3,\n",
    "       3, 3, 4, 1, 1, 2, 3, 2, 4, 3, 3, 3, 3, 3, 3, 0, 3, 4, 4, 4, 4, 3,\n",
    "       2, 4, 2, 2, 2, 1, 0, 3, 4, 4, 4, 3, 3, 4, 2, 2, 1, 1, 3, 4, 4, 4,\n",
    "       3, 0, 1, 1, 0, 1, 1, 2, 1, 1, 1, 2, 1, 1, 1, 0, 0, 0, 0, 1, 1, 1,\n",
    "       1, 1, 1, 0, 0, 0, 0, 1, 3, 3, 3, 2, 2, 2, 2, 2, 2, 3, 4, 4, 4, 4,\n",
    "       3, 4, 4, 4, 4, 4, 2, 4, 2, 2, 4, 3, 4, 4, 4, 4, 4, 3, 3, 0, 0, 1,\n",
    "       4, 4, 4, 3, 3, 4, 4, 4, 4, 4, 4, 4, 2, 2, 4, 2, 4, 4, 4, 3, 2, 2,\n",
    "       2, 2, 2, 2, 2, 0, 0, 2, 4, 4, 3, 3, 2, 2, 2, 3, 3, 3, 3, 3, 3, 2,\n",
    "       2, 1, 1, 0, 0, 0, 0, 0, 0, 0, 0, 4, 4, 3, 3])"
   ]
  },
  {
   "cell_type": "code",
   "execution_count": 50,
   "metadata": {},
   "outputs": [
    {
     "name": "stdout",
     "output_type": "stream",
     "text": [
      "7\n",
      "[1 2 1 1 1 2 1 1 1 0 0 0]\n"
     ]
    }
   ],
   "source": [
    "for i in range(1,17):\n",
    "    if i*12-12<=77 and 77<i*12:\n",
    "        print(i)\n",
    "        print(classifications[(i*12-12):(i*12)])"
   ]
  },
  {
   "cell_type": "code",
   "execution_count": 10,
   "metadata": {},
   "outputs": [
    {
     "data": {
      "text/plain": [
       "<matplotlib.image.AxesImage at 0x20452efb940>"
      ]
     },
     "execution_count": 10,
     "metadata": {},
     "output_type": "execute_result"
    },
    {
     "data": {
      "image/png": "[encoded data removed]",
      "text/plain": [
       "<Figure size 432x288 with 1 Axes>"
      ]
     },
     "metadata": {
      "needs_background": "light"
     },
     "output_type": "display_data"
    }
   ],
   "source": [
    "x=np.zeros((10,10))\n",
    "x[5,5]=1\n",
    "x[5,6]=1\n",
    "x[4,5]=1\n",
    "x[4,4]=1\n",
    "x[5,4]=1\n",
    "x[4,3]=1\n",
    "y=np.zeros((10,10))\n",
    "y[5,6]=1\n",
    "y[5,7]=1\n",
    "y[6,6]=1\n",
    "plt.imshow(y,cmap='gray')"
   ]
  },
  {
   "cell_type": "code",
   "execution_count": 11,
   "metadata": {},
   "outputs": [
    {
     "name": "stdout",
     "output_type": "stream",
     "text": [
      "0.2222222222222222\n",
      "0.6000000000000001\n",
      "0.2\n"
     ]
    }
   ],
   "source": [
    "def findDice(x,y):\n",
    "\n",
    "    minImg=np.array([x,y]).min(axis=0)\n",
    "    return(2*np.sum(minImg)/(np.sum(x)+np.sum(y)))\n",
    "\n",
    "def findMinDice(x,y):\n",
    "    \n",
    "    x7=scipy.ndimage.morphology.binary_dilation(x)\n",
    "    x5=scipy.ndimage.morphology.binary_dilation(x7)\n",
    "    x3=scipy.ndimage.morphology.binary_dilation(x5)\n",
    "    img=np.array([x,0.7*x7,0.5*x5,0.3*x3]).max(axis=0)\n",
    "\n",
    "    y7=scipy.ndimage.morphology.binary_dilation(y)\n",
    "    y5=scipy.ndimage.morphology.binary_dilation(y7)\n",
    "    y3=scipy.ndimage.morphology.binary_dilation(y5)\n",
    "    img1=np.array([y,0.7*y7,0.5*y5,0.3*y3]).max(axis=0)\n",
    "\n",
    "    minImg=np.array([img,img1]).min(axis=0)\n",
    "\n",
    "    return(2*np.sum(minImg)/(np.sum(img)+np.sum(img1)))\n",
    "\n",
    "def findDistDice(x,y):\n",
    "\n",
    "    minImg=np.array([x,y]).min(axis=0)\n",
    "    \n",
    "    x1=scipy.ndimage.morphology.binary_dilation(x)\n",
    "    x1=scipy.ndimage.morphology.binary_dilation(x1)\n",
    "    x1=scipy.ndimage.morphology.binary_dilation(x1)\n",
    "\n",
    "    y1=scipy.ndimage.morphology.binary_dilation(y)\n",
    "    y1=scipy.ndimage.morphology.binary_dilation(y1)\n",
    "    y1=scipy.ndimage.morphology.binary_dilation(y1)\n",
    "\n",
    "    s=0\n",
    "    if len(x.shape)==2:\n",
    "        for i in range(x.shape[0]):\n",
    "            for j in range(x.shape[1]):\n",
    "                if x1[i,j]==0 or y1[i,j]==0:\n",
    "                    s+=x[i,j]+y[i,j]\n",
    "    else:\n",
    "        for i in range(x.shape[0]):\n",
    "            for j in range(x.shape[1]):\n",
    "                for k in range(x.shape[2]):\n",
    "                    if x1[i,j,k]==0 or y1[i,j,k]==0:\n",
    "                        s+=x[i,j,k]+y[i,j,k]\n",
    "\n",
    "    return(2*np.sum(minImg)/(np.sum(x)+np.sum(y)+s))\n",
    "\n",
    "print(findDice(x,y))\n",
    "print(findMinDice(x,y))\n",
    "print(findDistDice(x,y))"
   ]
  },
  {
   "cell_type": "code",
   "execution_count": 12,
   "metadata": {},
   "outputs": [],
   "source": [
    "limit=0.40\n",
    "\n",
    "dices=[]\n",
    "minDices=[]\n",
    "distDices=[]\n",
    "\n",
    "for i in range(len(predictions)):\n",
    "    dices.append(findDice(y_test[i],turnIntoBinaryMask(predictions[i],limit)))\n",
    "    minDices.append(findMinDice(y_test[i],turnIntoBinaryMask(predictions[i],limit)))\n",
    "    distDices.append(findDistDice(y_test[i],turnIntoBinaryMask(predictions[i],limit)))\n",
    "\n",
    "dices=np.array(dices)\n",
    "minDices=np.array(minDices)\n",
    "distDices=np.array(distDices)"
   ]
  },
  {
   "cell_type": "code",
   "execution_count": 13,
   "metadata": {},
   "outputs": [],
   "source": [
    "dices0=[]\n",
    "dices1=[]\n",
    "dices2=[]\n",
    "dices3=[]\n",
    "dices4=[]\n",
    "for i in range(len(y_test)):\n",
    "    if classifications[i]==0:\n",
    "        dices0.append(dices[i])\n",
    "    if classifications[i]==1:\n",
    "        dices1.append(dices[i])\n",
    "    if classifications[i]==2:\n",
    "        dices2.append(dices[i])\n",
    "    if classifications[i]==3:\n",
    "        dices3.append(dices[i])\n",
    "    if classifications[i]==4:\n",
    "        dices4.append(dices[i])\n",
    "dicesForClass=[dices0,dices1,dices2,dices3,dices4]\n",
    "\n",
    "dices0=[]\n",
    "dices1=[]\n",
    "dices2=[]\n",
    "dices3=[]\n",
    "dices4=[]\n",
    "for i in range(len(y_test)):\n",
    "    if classifications[i]==0:\n",
    "        dices0.append(minDices[i])\n",
    "    if classifications[i]==1:\n",
    "        dices1.append(minDices[i])\n",
    "    if classifications[i]==2:\n",
    "        dices2.append(minDices[i])\n",
    "    if classifications[i]==3:\n",
    "        dices3.append(minDices[i])\n",
    "    if classifications[i]==4:\n",
    "        dices4.append(minDices[i])\n",
    "minDicesForClass=[dices0,dices1,dices2,dices3,dices4]\n",
    "\n",
    "dices0=[]\n",
    "dices1=[]\n",
    "dices2=[]\n",
    "dices3=[]\n",
    "dices4=[]\n",
    "for i in range(len(y_test)):\n",
    "    if classifications[i]==0:\n",
    "        dices0.append(distDices[i])\n",
    "    if classifications[i]==1:\n",
    "        dices1.append(distDices[i])\n",
    "    if classifications[i]==2:\n",
    "        dices2.append(distDices[i])\n",
    "    if classifications[i]==3:\n",
    "        dices3.append(distDices[i])\n",
    "    if classifications[i]==4:\n",
    "        dices4.append(distDices[i])\n",
    "distDicesForClass=[dices0,dices1,dices2,dices3,dices4]"
   ]
  },
  {
   "cell_type": "code",
   "execution_count": 26,
   "metadata": {},
   "outputs": [
    {
     "name": "stdout",
     "output_type": "stream",
     "text": [
      "0\n",
      "0.0  |  0.0  |  0.0\n",
      "0.0  |  0.002  |  0.0\n",
      "0.0  |  0.027  |  0.0\n",
      "0.0  |  0.006  |  0.0\n",
      "1\n",
      "0.045  |  0.142  |  0.023\n",
      "0.324  |  0.41  |  0.248\n",
      "0.857  |  0.791  |  0.811\n",
      "0.214  |  0.175  |  0.197\n",
      "2\n",
      "0.091  |  0.212  |  0.054\n",
      "0.545  |  0.605  |  0.468\n",
      "0.856  |  0.841  |  0.824\n",
      "0.198  |  0.155  |  0.214\n",
      "3\n",
      "0.255  |  0.482  |  0.182\n",
      "0.653  |  0.734  |  0.62\n",
      "0.874  |  0.891  |  0.854\n",
      "0.134  |  0.091  |  0.145\n",
      "4\n",
      "0.605  |  0.747  |  0.605\n",
      "0.825  |  0.874  |  0.824\n",
      "0.98  |  0.991  |  0.98\n",
      "0.078  |  0.053  |  0.079\n"
     ]
    }
   ],
   "source": [
    "for i in range(5):\n",
    "    print(i)\n",
    "    #print(len(minDicesForClass[i]))\n",
    "    print(round(np.min(dicesForClass[i]),3),' | ',round(np.min(minDicesForClass[i]),3),' | ',round(np.min(distDicesForClass[i]),3))\n",
    "    print(round(np.mean(dicesForClass[i]),3),' | ',round(np.mean(minDicesForClass[i]),3),' | ',round(np.mean(distDicesForClass[i]),3))\n",
    "    print(round(np.max(dicesForClass[i]),3),' | ',round(np.max(minDicesForClass[i]),3),' | ',round(np.max(distDicesForClass[i]),3))\n",
    "    print(round(np.std(dicesForClass[i]),3),' | ',round(np.std(minDicesForClass[i]),3),' | ',round(np.std(distDicesForClass[i]),3))"
   ]
  },
  {
   "cell_type": "code",
   "execution_count": 27,
   "metadata": {},
   "outputs": [
    {
     "name": "stdout",
     "output_type": "stream",
     "text": [
      "0\n",
      "0.0  |  0.027  |  0.0\n",
      "1\n",
      "0.812  |  0.648  |  0.787\n",
      "2\n",
      "0.765  |  0.629  |  0.771\n",
      "3\n",
      "0.618  |  0.409  |  0.672\n",
      "4\n",
      "0.376  |  0.244  |  0.376\n"
     ]
    }
   ],
   "source": [
    "for i in range(5):\n",
    "    print(i)\n",
    "    #print(len(minDicesForClass[i]))\n",
    "    print(round(np.max(dicesForClass[i])-np.min(dicesForClass[i]),3),' | ',\n",
    "          round(np.max(minDicesForClass[i])-np.min(minDicesForClass[i]),3),' | ',\n",
    "          round(np.max(distDicesForClass[i])-np.min(distDicesForClass[i]),3))"
   ]
  },
  {
   "cell_type": "code",
   "execution_count": 32,
   "metadata": {},
   "outputs": [
    {
     "name": "stdout",
     "output_type": "stream",
     "text": [
      "0.5434227864172948\n",
      "0.03691053513079565\n",
      "0.004289037910039299\n",
      "0.004658760618544159\n"
     ]
    }
   ],
   "source": [
    "def f_test(x,y):\n",
    "\n",
    "    x=np.array(x)\n",
    "    y=np.array(y)\n",
    "    f=np.var(x,ddof=1)/np.var(y,ddof=1)\n",
    "    dfn=x.size-1\n",
    "    dfd=y.size-1\n",
    "    p=2*min(1-scipy.stats.f.cdf(f,dfn,dfd),scipy.stats.f.cdf(f,dfn,dfd))\n",
    "    return(p)\n",
    "\n",
    "#for i in range(1,5):\n",
    "    #print(f_test(dicesForClass[i],minDicesForClass[i]))\n",
    "\n",
    "#for i in range(1,5):\n",
    "    #print(f_test(dicesForClass[i],distDicesForClass[i]))\n",
    "\n",
    "for i in range(1,5):\n",
    "    print(f_test(minDicesForClass[i],distDicesForClass[i]))"
   ]
  },
  {
   "cell_type": "code",
   "execution_count": 14,
   "metadata": {},
   "outputs": [
    {
     "name": "stdout",
     "output_type": "stream",
     "text": [
      "[3, 9, 13, 13, 6, 6, 7, 5, 5, 18, 21, 5, 18, 16, 15, 18, 13]\n"
     ]
    }
   ],
   "source": [
    "testSetSlices=[]\n",
    "numTestSetPatients=0\n",
    "for i in range(len(posList)):\n",
    "    if i in testSetPatients:\n",
    "        testSetSlices.append(len(posList[i]))\n",
    "print(testSetSlices)\n",
    "\n",
    "classifications3d=[]\n",
    "masks3d=[]\n",
    "predictions3d=[]\n",
    "\n",
    "k=0\n",
    "for i in range(len(testSetSlices)):\n",
    "    v=[]\n",
    "    mask=[]\n",
    "    pred=[]\n",
    "    for j in range(testSetSlices[i]):\n",
    "        v.append(classifications[k])\n",
    "        mask.append(y_test[k])\n",
    "        pred.append(turnIntoBinaryMask(predictions[k],0.40))\n",
    "        k+=1\n",
    "    v=np.array(v)\n",
    "    classifications3d.append(v)\n",
    "    mask=np.array(mask)\n",
    "    masks3d.append(mask)\n",
    "    pred=np.array(pred)\n",
    "    predictions3d.append(pred)"
   ]
  },
  {
   "cell_type": "code",
   "execution_count": 67,
   "metadata": {},
   "outputs": [
    {
     "name": "stdout",
     "output_type": "stream",
     "text": [
      "3  &  1.3  &  0.365  &  0.492  &  0.235 \\\\\n",
      "9  &  2.3  &  0.703  &  0.675  &  0.614 \\\\\n",
      "13  &  2.8  &  0.744  &  0.826  &  0.726 \\\\\n",
      "13  &  2.4  &  0.722  &  0.794  &  0.703 \\\\\n",
      "6  &  3.7  &  0.819  &  0.89  &  0.819 \\\\\n",
      "6  &  2.2  &  0.603  &  0.6  &  0.528 \\\\\n",
      "7  &  3.0  &  0.682  &  0.722  &  0.641 \\\\\n",
      "5  &  2.0  &  0.599  &  0.525  &  0.461 \\\\\n",
      "5  &  3.6  &  0.71  &  0.795  &  0.702 \\\\\n",
      "18  &  0.8  &  0.175  &  0.316  &  0.105 \\\\\n",
      "21  &  1.5  &  0.431  &  0.526  &  0.336 \\\\\n",
      "5  &  3.8  &  0.789  &  0.879  &  0.789 \\\\\n",
      "18  &  3.5  &  0.779  &  0.865  &  0.779 \\\\\n",
      "16  &  3.1  &  0.751  &  0.798  &  0.731 \\\\\n",
      "15  &  2.5  &  0.505  &  0.602  &  0.424 \\\\\n",
      "18  &  2.5  &  0.64  &  0.73  &  0.605 \\\\\n",
      "13  &  1.2  &  0.101  &  0.192  &  0.057 \\\\\n"
     ]
    }
   ],
   "source": [
    "for i in range(len(testSetSlices)):\n",
    "    print(testSetSlices[i],' & ',\n",
    "          round(np.mean(classifications3d[i]),1),' & ',\n",
    "          round(findDice(masks3d[i],predictions3d[i]),3),' & ',\n",
    "          round(findMinDice(masks3d[i],predictions3d[i]),3),' & ',\n",
    "          round(findDistDice(masks3d[i],predictions3d[i]),3),'\\\\\\\\')"
   ]
  },
  {
   "cell_type": "code",
   "execution_count": null,
   "metadata": {},
   "outputs": [],
   "source": [
    "i=0\n",
    "print(i,classifications[i],round(dices[i],3),round(minDices[i],3),round(distDices[i],3))\n",
    "array=cv2.rotate(y_test[i],cv2.cv2.ROTATE_90_COUNTERCLOCKWISE)\n",
    "array1=cv2.rotate(turnIntoBinaryMask(predictions[i],limit),cv2.cv2.ROTATE_90_COUNTERCLOCKWISE)\n",
    "plt.imshow(array1)\n",
    "plt.imshow(cv2.rotate(x_test[i],cv2.cv2.ROTATE_90_COUNTERCLOCKWISE), cmap='gray')\n",
    "fig=plt.gcf()\n",
    "plot_outlines(array.T, lw=2, color='green')\n",
    "plot_outlines(array1.T, lw=2, color='blue')\n",
    "plt.axis('off')\n",
    "#plt.savefig('fig{}.png'.format(i),bbox_inches='tight')\n",
    "plt.show()\n",
    "#plt.imshow(array, cmap='gray')\n",
    "#plt.show()\n",
    "#plt.imshow(array1, cmap='gray')\n",
    "#plt.show()"
   ]
  },
  {
   "cell_type": "code",
   "execution_count": 16,
   "metadata": {},
   "outputs": [
    {
     "name": "stdout",
     "output_type": "stream",
     "text": [
      "SpearmanrResult(correlation=0.8320902026321286, pvalue=2.884847457366621e-50)\n",
      "SpearmanrResult(correlation=0.8925781214528374, pvalue=2.7024636974113724e-67)\n",
      "SpearmanrResult(correlation=0.8673217494585266, pvalue=3.62238032447915e-59)\n"
     ]
    }
   ],
   "source": [
    "print(scipy.stats.spearmanr(classifications,dices))\n",
    "print(scipy.stats.spearmanr(classifications,minDices))\n",
    "print(scipy.stats.spearmanr(classifications,distDices))"
   ]
  },
  {
   "cell_type": "code",
   "execution_count": 17,
   "metadata": {},
   "outputs": [
    {
     "name": "stdout",
     "output_type": "stream",
     "text": [
      "SpearmanrResult(correlation=0.8995098039215688, pvalue=8.964818375507006e-07)\n",
      "SpearmanrResult(correlation=0.9411764705882353, pvalue=1.8275574906300595e-08)\n",
      "SpearmanrResult(correlation=0.911764705882353, pvalue=3.5059039795199566e-07)\n"
     ]
    }
   ],
   "source": [
    "dices3d=[]\n",
    "minDices3d=[]\n",
    "distDices3d=[]\n",
    "scores3d=[]\n",
    "\n",
    "for i in range(len(testSetSlices)):\n",
    "    dices3d.append(findDice(masks3d[i],predictions3d[i]))\n",
    "    minDices3d.append(findMinDice(masks3d[i],predictions3d[i]))\n",
    "    distDices3d.append(findDistDice(masks3d[i],predictions3d[i]))\n",
    "    scores3d.append(np.mean(classifications3d[i]))\n",
    "\n",
    "dices3d=np.array(dices3d)\n",
    "minDices3d=np.array(minDices3d)\n",
    "distDices3d=np.array(distDices3d)\n",
    "scores3d=np.array(scores3d)\n",
    "\n",
    "print(scipy.stats.spearmanr(scores3d,dices3d))\n",
    "print(scipy.stats.spearmanr(scores3d,minDices3d))\n",
    "print(scipy.stats.spearmanr(scores3d,distDices3d))"
   ]
  }
 ],
 "metadata": {
  "kernelspec": {
   "display_name": "Python 3",
   "language": "python",
   "name": "python3"
  },
  "language_info": {
   "codemirror_mode": {
    "name": "ipython",
    "version": 3
   },
   "file_extension": ".py",
   "mimetype": "text/x-python",
   "name": "python",
   "nbconvert_exporter": "python",
   "pygments_lexer": "ipython3",
   "version": "3.9.9"
  },
  "orig_nbformat": 4,
  "vscode": {
   "interpreter": {
    "hash": "807538355894bfe9c3b0fc3c547a7e24e0703440031706ea4ad2899e310ac795"
   }
  }
 },
 "nbformat": 4,
 "nbformat_minor": 2
}
